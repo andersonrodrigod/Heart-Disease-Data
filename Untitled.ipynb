{
  "cells": [
    {
      "cell_type": "code",
      "execution_count": null,
      "id": "d9edfe73-6c36-4f4d-af33-cfd4e7302693",
      "metadata": {},
      "outputs": [],
      "source": []
    }
  ],
  "metadata": {
    "kernelspec": {
      "display_name": "Python 3 (ipykernel)",
      "language": "python",
      "name": "python3"
    },
    "language_info": {
      "codemirror_mode": {
        "name": "ipython",
        "version": 3
      },
      "file_extension": ".py",
      "mimetype": "text/x-python",
      "name": "python",
      "nbconvert_exporter": "python",
      "pygments_lexer": "ipython3",
      "version": "3.12.7"
    },
    "active_editors": [
      {
        "name": "ANDERSON RODRIGO",
        "avatar_url": "https://avatars.githubusercontent.com/u/99427400?v=4",
        "timestamp": "2024-12-23T14:45:29+01:00"
      }
    ]
  },
  "nbformat": 4,
  "nbformat_minor": 5
}